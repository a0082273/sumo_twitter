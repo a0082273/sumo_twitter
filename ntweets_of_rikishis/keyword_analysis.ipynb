{
 "cells": [
  {
   "cell_type": "code",
   "execution_count": null,
   "metadata": {},
   "outputs": [],
   "source": [
    "import pandas as pd\n",
    "import seaborn as sns\n",
    "import matplotlib.pyplot as plt"
   ]
  },
  {
   "cell_type": "code",
   "execution_count": null,
   "metadata": {},
   "outputs": [],
   "source": [
    "#pd.set_option(\"display.max_rows\", 300)  #表示する行数を増やす"
   ]
  },
  {
   "cell_type": "code",
   "execution_count": null,
   "metadata": {},
   "outputs": [],
   "source": [
    "data = pd.read_csv('output/201807_all_data.csv', index_col=0)"
   ]
  },
  {
   "cell_type": "code",
   "execution_count": null,
   "metadata": {},
   "outputs": [],
   "source": [
    "data"
   ]
  },
  {
   "cell_type": "code",
   "execution_count": null,
   "metadata": {},
   "outputs": [],
   "source": [
    "data.shape"
   ]
  },
  {
   "cell_type": "code",
   "execution_count": null,
   "metadata": {},
   "outputs": [],
   "source": [
    "rm_rikishi = data.columns[data.loc['ntweets_day1'].isnull().values == True]"
   ]
  },
  {
   "cell_type": "code",
   "execution_count": null,
   "metadata": {},
   "outputs": [],
   "source": [
    "rm_rikishi"
   ]
  },
  {
   "cell_type": "code",
   "execution_count": null,
   "metadata": {},
   "outputs": [],
   "source": [
    "data = data.drop(rm_rikishi, axis=1)"
   ]
  },
  {
   "cell_type": "code",
   "execution_count": null,
   "metadata": {},
   "outputs": [],
   "source": [
    "data"
   ]
  },
  {
   "cell_type": "code",
   "execution_count": null,
   "metadata": {},
   "outputs": [],
   "source": [
    "data = data.T.sort_values(by='ability', ascending=False).T"
   ]
  },
  {
   "cell_type": "code",
   "execution_count": null,
   "metadata": {},
   "outputs": [],
   "source": [
    "data"
   ]
  },
  {
   "cell_type": "markdown",
   "metadata": {},
   "source": [
    "# キーワードを多くツイートした人"
   ]
  },
  {
   "cell_type": "code",
   "execution_count": null,
   "metadata": {},
   "outputs": [],
   "source": [
    "for ind in data.index:\n",
    "    plt.figure(figsize=(15, 6))\n",
    "    data.loc[ind].plot('bar')\n",
    "    plt.savefig(f'output/{ind}')"
   ]
  },
  {
   "cell_type": "code",
   "execution_count": null,
   "metadata": {},
   "outputs": [],
   "source": [
    "plt.figure(figsize=(15, 6))\n",
    "data.loc['ntweets_sum'].plot('bar')"
   ]
  },
  {
   "cell_type": "code",
   "execution_count": null,
   "metadata": {},
   "outputs": [],
   "source": [
    "#すばらしい\n",
    "plt.figure(figsize=(15, 6))\n",
    "data.loc['followed_50%'].plot('bar')"
   ]
  },
  {
   "cell_type": "code",
   "execution_count": null,
   "metadata": {},
   "outputs": [],
   "source": [
    "plt.figure(figsize=(15, 6))\n",
    "data.loc['followed_mean'].plot('bar')"
   ]
  },
  {
   "cell_type": "code",
   "execution_count": null,
   "metadata": {},
   "outputs": [],
   "source": [
    "plt.figure(figsize=(15, 6))\n",
    "data.loc['followed_max'].plot('bar')"
   ]
  },
  {
   "cell_type": "code",
   "execution_count": null,
   "metadata": {},
   "outputs": [],
   "source": [
    "plt.figure(figsize=(15, 6))\n",
    "data.loc['following_max'].plot('bar')"
   ]
  },
  {
   "cell_type": "code",
   "execution_count": null,
   "metadata": {},
   "outputs": [],
   "source": [
    "check = pd.read_csv('output/ontakeumi_tweets.csv', index_col=0)"
   ]
  },
  {
   "cell_type": "code",
   "execution_count": null,
   "metadata": {},
   "outputs": [],
   "source": [
    "check.sort_values(by='n_followed', ascending=False).head()"
   ]
  },
  {
   "cell_type": "code",
   "execution_count": null,
   "metadata": {},
   "outputs": [],
   "source": [
    "check.sort_values(by='n_following', ascending=False).head()"
   ]
  },
  {
   "cell_type": "code",
   "execution_count": null,
   "metadata": {},
   "outputs": [],
   "source": [
    "check.sort_values(by='n_favorited', ascending=False).head()"
   ]
  },
  {
   "cell_type": "code",
   "execution_count": null,
   "metadata": {},
   "outputs": [],
   "source": [
    "plt.figure(figsize=(15, 6))\n",
    "data.loc['n_tweets_50%'].plot('bar')"
   ]
  },
  {
   "cell_type": "code",
   "execution_count": null,
   "metadata": {},
   "outputs": [],
   "source": [
    "plt.figure(figsize=(15, 6))\n",
    "data.loc['n_tweets_mean'].plot('bar')"
   ]
  },
  {
   "cell_type": "code",
   "execution_count": null,
   "metadata": {},
   "outputs": [],
   "source": [
    "plt.figure(figsize=(15, 6))\n",
    "data.loc['favorited_mean'].plot('bar')"
   ]
  },
  {
   "cell_type": "code",
   "execution_count": null,
   "metadata": {},
   "outputs": [],
   "source": [
    "plt.figure(figsize=(15, 6))\n",
    "data.loc['favorited_max'].plot('bar')"
   ]
  },
  {
   "cell_type": "code",
   "execution_count": null,
   "metadata": {},
   "outputs": [],
   "source": [
    "data.index[:15]"
   ]
  },
  {
   "cell_type": "code",
   "execution_count": null,
   "metadata": {},
   "outputs": [],
   "source": [
    "data.iloc[:15].plot(kind='line', colormap='nipy_spectral', figsize=(28, 11))\n",
    "plt.savefig(f'output/n_tweets_basho')"
   ]
  },
  {
   "cell_type": "code",
   "execution_count": null,
   "metadata": {},
   "outputs": [],
   "source": [
    "data.iloc[:15].plot(kind='box', figsize=(15, 6))\n",
    "plt.savefig(f'output/n_tweets_basho_box')"
   ]
  },
  {
   "cell_type": "code",
   "execution_count": null,
   "metadata": {},
   "outputs": [],
   "source": [
    "data.drop('御嶽海', axis=1).iloc[:15].plot(kind='line', colormap='nipy_spectral', figsize=(28, 10))\n",
    "plt.savefig(f'output/n_tweets_basho_rm_mitakeumi')"
   ]
  },
  {
   "cell_type": "code",
   "execution_count": null,
   "metadata": {},
   "outputs": [],
   "source": [
    "data.drop('御嶽海', axis=1).iloc[:15].plot(kind='box', figsize=(15, 6))\n",
    "plt.savefig(f'output/n_tweets_basho_rm_mitakeumi_box')"
   ]
  },
  {
   "cell_type": "code",
   "execution_count": null,
   "metadata": {},
   "outputs": [],
   "source": [
    "data.drop(['御嶽海', '白鵬', '鶴竜', '稀勢の里', '日馬富士', '栃ノ心', '服部桜'], axis=1).shape"
   ]
  },
  {
   "cell_type": "code",
   "execution_count": null,
   "metadata": {},
   "outputs": [],
   "source": [
    "data.drop(['御嶽海', '白鵬', '鶴竜', '稀勢の里', '日馬富士', '栃ノ心', '服部桜'], axis=1).iloc[:15].plot(\n",
    "    kind='line',\n",
    "    colormap='nipy_spectral',\n",
    "#    style=['x-']*(data.shape[1]-1),\n",
    "    figsize=(28, 10)\n",
    ")\n",
    "plt.savefig(f'output/n_tweets_basho_rm_mitakeumi_kyujo')"
   ]
  },
  {
   "cell_type": "code",
   "execution_count": null,
   "metadata": {},
   "outputs": [],
   "source": [
    "#data.drop(['御嶽海', '白鵬', '鶴竜', '稀勢の里', '日馬富士', '栃ノ心', '服部桜'], axis=1).iloc[:15].plot(kind='box', figsize=(15, 6))\n",
    "#plt.savefig(f'output/n_tweets_basho_rm_mitakeumi_kyujo_box')"
   ]
  },
  {
   "cell_type": "code",
   "execution_count": null,
   "metadata": {},
   "outputs": [],
   "source": [
    "plt.figure(figsize=(15, 6))\n",
    "ax = plt.axes()\n",
    "plt.boxplot(data.drop(['御嶽海', '白鵬', '鶴竜', '稀勢の里', '日馬富士', '栃ノ心', '服部桜'], axis=1).iloc[:15].T)\n",
    "ax.set_xticklabels(data.drop(['御嶽海', '白鵬', '鶴竜', '稀勢の里', '日馬富士', '栃ノ心', '服部桜'], axis=1).iloc[:15].T.index,\n",
    "                   rotation='vertical')\n",
    "plt.savefig(f'output/n_tweets_basho_rm_mitakeumi_kyujo_box', dpi=200)\n",
    "plt.show()"
   ]
  },
  {
   "cell_type": "code",
   "execution_count": null,
   "metadata": {},
   "outputs": [],
   "source": [
    "data.drop(['白鵬', '鶴竜', '稀勢の里', '日馬富士', '栃ノ心', '服部桜'], axis=1).iloc[:15].plot(\n",
    "    kind='line',\n",
    "    colormap='nipy_spectral',\n",
    "#    style=['x-']*(data.shape[1]-1),\n",
    "    figsize=(28, 10)\n",
    ")\n",
    "plt.savefig(f'output/n_tweets_basho_rm_kyujo')"
   ]
  },
  {
   "cell_type": "code",
   "execution_count": null,
   "metadata": {},
   "outputs": [],
   "source": [
    "data.drop(['白鵬', '鶴竜', '稀勢の里', '日馬富士', '栃ノ心', '服部桜'], axis=1).iloc[:15].plot(kind='box', figsize=(15, 6))\n",
    "plt.savefig(f'output/n_tweets_basho_rm_kyujo_box')"
   ]
  },
  {
   "cell_type": "markdown",
   "metadata": {},
   "source": [
    "# 11取組以上した力士に限定"
   ]
  },
  {
   "cell_type": "code",
   "execution_count": null,
   "metadata": {},
   "outputs": [],
   "source": [
    "data = data.drop(['白鵬', '鶴竜', '稀勢の里', '日馬富士', '栃ノ心', '服部桜'], axis=1)"
   ]
  },
  {
   "cell_type": "code",
   "execution_count": null,
   "metadata": {},
   "outputs": [],
   "source": [
    "data"
   ]
  },
  {
   "cell_type": "code",
   "execution_count": null,
   "metadata": {},
   "outputs": [],
   "source": [
    "#前者ではガウス分布が、そして後者では一様分布が想定されている\n",
    "sns.distplot(data.loc['ability'])"
   ]
  },
  {
   "cell_type": "code",
   "execution_count": null,
   "metadata": {},
   "outputs": [],
   "source": [
    "sns.distplot(data.loc['ntweets_sum'])"
   ]
  },
  {
   "cell_type": "code",
   "execution_count": null,
   "metadata": {},
   "outputs": [],
   "source": [
    "sns.distplot(np.log(data.loc['ntweets_sum']))"
   ]
  },
  {
   "cell_type": "code",
   "execution_count": null,
   "metadata": {},
   "outputs": [],
   "source": [
    "data = data.T\n",
    "data['ntweets_sum_log'] = np.log(data['ntweets_sum'])\n",
    "data = data.T"
   ]
  },
  {
   "cell_type": "code",
   "execution_count": null,
   "metadata": {},
   "outputs": [],
   "source": [
    "data"
   ]
  },
  {
   "cell_type": "code",
   "execution_count": null,
   "metadata": {},
   "outputs": [],
   "source": [
    "def zscore(x):\n",
    "    xmean = x.mean()\n",
    "    xstd  = np.std(x)\n",
    "\n",
    "    zscore = (x-xmean)/xstd\n",
    "    return zscore"
   ]
  },
  {
   "cell_type": "code",
   "execution_count": null,
   "metadata": {},
   "outputs": [],
   "source": [
    "sns.distplot(zscore(data.loc['ability']).values)"
   ]
  },
  {
   "cell_type": "code",
   "execution_count": null,
   "metadata": {},
   "outputs": [],
   "source": [
    "sns.distplot(zscore(data.loc['ntweets_sum']))"
   ]
  },
  {
   "cell_type": "code",
   "execution_count": null,
   "metadata": {},
   "outputs": [],
   "source": [
    "sns.distplot(zscore(data.loc['ntweets_sum_log']))"
   ]
  },
  {
   "cell_type": "code",
   "execution_count": null,
   "metadata": {},
   "outputs": [],
   "source": [
    "pd.concat([zscore(data.loc['ntweets_sum']), zscore(data.loc['ability'])], axis=1).plot.bar(figsize=(15, 6))"
   ]
  },
  {
   "cell_type": "code",
   "execution_count": null,
   "metadata": {},
   "outputs": [],
   "source": [
    "pd.concat([zscore(data.loc['ability']), zscore(data.loc['ntweets_sum'])], axis=1).plot.bar(figsize=(15, 6))"
   ]
  },
  {
   "cell_type": "code",
   "execution_count": null,
   "metadata": {},
   "outputs": [],
   "source": [
    "data = data.T.sort_values(by='ntweets_sum', ascending=False).T"
   ]
  },
  {
   "cell_type": "code",
   "execution_count": null,
   "metadata": {},
   "outputs": [],
   "source": [
    "#すばらしい\n",
    "#（豊山と朝の山がツイート数（注目）の割にはability高い。この2人は敢闘賞を受賞している。\n",
    "#敢闘精神溢れる相撲を展開した力士に与えられる。「敢闘精神」の定義は広く解釈されていて、殊勲賞にも、技能賞にも該当させにくい好成績を挙げた力士（例えば関脇以下での優勝や優勝同点、そうでなくても最終盤まで優勝争いに絡んだ場合）、新進力士やベテラン力士に対する奨励の意味で与えられることもある。）\n",
    "#嘉風はability低いけどツイート数多い。wordcloudに「心配」「応援」がある。頑張ってほしい。\n",
    "#貴景勝、栃煌山、北勝富士（、玉鷲、魁聖）はability高いのに、ツイートされてない。オススメ推し力士。\n",
    "#妙義龍、千代大龍、阿武咲はabilityなかなかなのに、ツイートされてない。穴場推し力士。\n",
    "pd.concat([zscore(data.loc['ntweets_sum']), zscore(data.loc['ability'])], axis=1).plot.bar(figsize=(15, 6))"
   ]
  },
  {
   "cell_type": "code",
   "execution_count": null,
   "metadata": {},
   "outputs": [],
   "source": [
    "pd.concat([zscore(data.loc['ntweets_sum']), zscore(data.loc['favorited_max']), zscore(data.loc['ability'])], axis=1).plot.bar(figsize=(15, 6))"
   ]
  },
  {
   "cell_type": "code",
   "execution_count": null,
   "metadata": {},
   "outputs": [],
   "source": [
    "pd.concat([zscore(data.loc['ntweets_sum_log']), zscore(data.loc['ability'])], axis=1).plot.bar(figsize=(15, 6))"
   ]
  },
  {
   "cell_type": "code",
   "execution_count": null,
   "metadata": {},
   "outputs": [],
   "source": [
    "plt.figure(figsize=(12, 10))\n",
    "sns.heatmap(data.T.corr(), cmap='Blues')"
   ]
  },
  {
   "cell_type": "code",
   "execution_count": null,
   "metadata": {},
   "outputs": [],
   "source": [
    "data.T.corr().loc['ability'].sort_values(ascending=False).plot('bar', figsize=(15, 6))"
   ]
  },
  {
   "cell_type": "code",
   "execution_count": null,
   "metadata": {},
   "outputs": [],
   "source": [
    "zscore(data.T).corr().loc['ability'].sort_values(ascending=False).plot('bar', figsize=(15, 6))"
   ]
  },
  {
   "cell_type": "code",
   "execution_count": null,
   "metadata": {},
   "outputs": [],
   "source": [
    "data.T.corr().loc['ntweets_sum'].sort_values(ascending=False).plot('bar', figsize=(15, 6))"
   ]
  },
  {
   "cell_type": "code",
   "execution_count": null,
   "metadata": {},
   "outputs": [],
   "source": [
    "data.T.corr().loc['followed_50%'].sort_values(ascending=False).plot('bar', figsize=(15, 6))"
   ]
  },
  {
   "cell_type": "code",
   "execution_count": null,
   "metadata": {},
   "outputs": [],
   "source": []
  }
 ],
 "metadata": {
  "kernelspec": {
   "display_name": "Python 3",
   "language": "python",
   "name": "python3"
  },
  "language_info": {
   "codemirror_mode": {
    "name": "ipython",
    "version": 3
   },
   "file_extension": ".py",
   "mimetype": "text/x-python",
   "name": "python",
   "nbconvert_exporter": "python",
   "pygments_lexer": "ipython3",
   "version": "3.6.4"
  }
 },
 "nbformat": 4,
 "nbformat_minor": 2
}
